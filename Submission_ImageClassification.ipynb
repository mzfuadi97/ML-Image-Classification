{
  "nbformat": 4,
  "nbformat_minor": 0,
  "metadata": {
    "colab": {
      "provenance": []
    },
    "kernelspec": {
      "name": "python3",
      "display_name": "Python 3"
    },
    "language_info": {
      "name": "python"
    },
    "accelerator": "GPU",
    "gpuClass": "standard"
  },
  "cells": [
    {
      "cell_type": "code",
      "execution_count": 5,
      "metadata": {
        "colab": {
          "base_uri": "https://localhost:8080/"
        },
        "id": "VMDwJRlYXJAB",
        "outputId": "169118f9-e292-41f3-f18b-3a7f88e8fc1c"
      },
      "outputs": [
        {
          "output_type": "stream",
          "name": "stdout",
          "text": [
            "Downloading intel-image-classification.zip to /content\n",
            " 99% 344M/346M [00:19<00:00, 18.4MB/s]\n",
            "100% 346M/346M [00:19<00:00, 18.5MB/s]\n"
          ]
        }
      ],
      "source": [
        "! chmod 600 /content/kaggle.json\n",
        "\n",
        "! KAGGLE_CONFIG_DIR=/content/ kaggle datasets download -d puneet6060/intel-image-classification"
      ]
    },
    {
      "cell_type": "code",
      "source": [
        "import zipfile\n",
        "zip_file = zipfile.ZipFile('/content/intel-image-classification.zip')\n",
        "zip_file.extractall('/tmp/')"
      ],
      "metadata": {
        "id": "4c1XoDT0Zrkr"
      },
      "execution_count": 6,
      "outputs": []
    },
    {
      "cell_type": "code",
      "source": [
        "import os\n",
        "import pandas as pd\n",
        "import numpy as np\n",
        "import matplotlib.pyplot as plt\n",
        "import cv2\n",
        "import imageio\n",
        "import pathlib\n",
        "import tensorflow as tf\n",
        "%matplotlib inline\n",
        "\n",
        "from keras_preprocessing.image import ImageDataGenerator"
      ],
      "metadata": {
        "id": "TIoucO3TZx8W"
      },
      "execution_count": 7,
      "outputs": []
    },
    {
      "cell_type": "code",
      "source": [
        "datagen = ImageDataGenerator(\n",
        "    rescale=1.0 / 255,\n",
        "    rotation_range=5,\n",
        "    zoom_range=(0.95, 0.95),\n",
        "    horizontal_flip=False,\n",
        "    vertical_flip=False,\n",
        "    data_format=\"channels_last\",\n",
        "    validation_split=0.0,\n",
        "    dtype=tf.float32,\n",
        ")"
      ],
      "metadata": {
        "id": "SWCeN418Z6-_"
      },
      "execution_count": 8,
      "outputs": []
    },
    {
      "cell_type": "code",
      "source": [
        "import shutil\n",
        "\n",
        "# absolute path\n",
        "src_path = r\"/tmp/seg_test/seg_test\"\n",
        "dst_path = r\"/tmp/seg_train/seg_traint\"\n",
        "shutil.move(src_path, dst_path)"
      ],
      "metadata": {
        "colab": {
          "base_uri": "https://localhost:8080/",
          "height": 36
        },
        "id": "aVhe1sBz47XD",
        "outputId": "4096ecb6-a1f3-4b87-b3b7-7db48730768b"
      },
      "execution_count": 9,
      "outputs": [
        {
          "output_type": "execute_result",
          "data": {
            "text/plain": [
              "'/tmp/seg_train/seg_traint'"
            ],
            "application/vnd.google.colaboratory.intrinsic+json": {
              "type": "string"
            }
          },
          "metadata": {},
          "execution_count": 9
        }
      ]
    },
    {
      "cell_type": "code",
      "source": [
        "from tensorflow.keras.preprocessing.image import ImageDataGenerator\n",
        "rescaled = ImageDataGenerator(rescale=1.0 / 255,\n",
        "    rotation_range=5,\n",
        "    zoom_range=(0.95, 0.95),\n",
        "    horizontal_flip=False,\n",
        "    vertical_flip=False,\n",
        "    data_format=\"channels_last\",\n",
        "    validation_split=0.2,\n",
        "    dtype=tf.float32)\n",
        "train_set = tf.keras.utils.image_dataset_from_directory('/tmp/seg_train/seg_train', image_size = (128,128), batch_size=32, label_mode = 'categorical', subset='training',  validation_split = 0.2, seed=42)\n",
        "test_set = tf.keras.utils.image_dataset_from_directory('/tmp/seg_train/seg_train', image_size = (128,128), batch_size=32, label_mode = 'categorical', subset='validation', validation_split = 0.2, seed=42)"
      ],
      "metadata": {
        "colab": {
          "base_uri": "https://localhost:8080/"
        },
        "id": "afDJ9a4-Z-1w",
        "outputId": "249b6946-473a-49d1-9240-e7e0fc5a5665"
      },
      "execution_count": 10,
      "outputs": [
        {
          "output_type": "stream",
          "name": "stdout",
          "text": [
            "Found 14034 files belonging to 6 classes.\n",
            "Using 11228 files for training.\n",
            "Found 14034 files belonging to 6 classes.\n",
            "Using 2806 files for validation.\n"
          ]
        }
      ]
    },
    {
      "cell_type": "code",
      "source": [
        "model = tf.keras.models.Sequential([\n",
        "    tf.keras.layers.Conv2D(16, (3,3), activation='relu', input_shape=(128,128,3)),\n",
        "    tf.keras.layers.Conv2D(16, (3,3), activation='relu'),\n",
        "    tf.keras.layers.Conv2D(16, (3,3), activation='relu'),\n",
        "    tf.keras.layers.MaxPool2D(2,2),  #1st layer\n",
        "    tf.keras.layers.Dropout(0.2),\n",
        "    tf.keras.layers.Conv2D(32, (3,3), activation='relu'),\n",
        "    tf.keras.layers.Conv2D(32, (3,3), activation='relu'),\n",
        "    tf.keras.layers.Conv2D(32, (3,3), activation='relu'),\n",
        "    tf.keras.layers.MaxPool2D(2,2),  #2nd layer\n",
        "    tf.keras.layers.Dropout(0.2),\n",
        "    tf.keras.layers.Conv2D(64, (3,3), activation='relu'),\n",
        "    tf.keras.layers.Conv2D(64, (3,3), activation='relu'),\n",
        "    tf.keras.layers.Conv2D(64, (3,3), activation='relu'),\n",
        "    tf.keras.layers.MaxPool2D(2,2),  #3rd layer\n",
        "    tf.keras.layers.Dropout(0.2),\n",
        "    tf.keras.layers.Conv2D(128, (3,3), activation='relu'),\n",
        "    tf.keras.layers.Conv2D(128, (3,3), activation='relu'),\n",
        "    tf.keras.layers.Conv2D(128, (3,3), activation='relu'),\n",
        "    tf.keras.layers.MaxPool2D(2,2),  #4th layer\n",
        "    tf.keras.layers.Flatten(),\n",
        "    tf.keras.layers.Dense(128, activation='relu'),\n",
        "    tf.keras.layers.Dropout(0.2),\n",
        "    tf.keras.layers.Dense(6, activation='softmax')                                                       \n",
        "])"
      ],
      "metadata": {
        "id": "EZCjBnI7aQ0f"
      },
      "execution_count": 11,
      "outputs": []
    },
    {
      "cell_type": "code",
      "source": [
        "#callback\n",
        "class myCallback(tf.keras.callbacks.Callback):\n",
        "  def on_epoch_end(self, epoch, logs={}):\n",
        "    if(logs.get('accuracy')>0.80 and logs.get('val_accuracy')>0.80):\n",
        "      self.model.stop_training = True\n",
        "      print(\"\\n akurasi dari training set and the validation set telah terpenuhi > 80%!\")\n",
        "callbacks = myCallback()"
      ],
      "metadata": {
        "id": "DKuqrUs7bHlr"
      },
      "execution_count": 12,
      "outputs": []
    },
    {
      "cell_type": "code",
      "source": [
        "model.compile(optimizer=\"adam\",loss='categorical_crossentropy', metrics=['accuracy'])\n",
        "history = model.fit(train_set, shuffle=True, epochs=50, validation_data=test_set, verbose=2, callbacks=[callbacks])"
      ],
      "metadata": {
        "colab": {
          "base_uri": "https://localhost:8080/"
        },
        "id": "1agEvMLaaTbU",
        "outputId": "d75d7257-f141-41ec-84a7-f270b9eb8cf8"
      },
      "execution_count": 15,
      "outputs": [
        {
          "output_type": "stream",
          "name": "stdout",
          "text": [
            "Epoch 1/50\n",
            "351/351 - 17s - loss: 0.4645 - accuracy: 0.8298 - val_loss: 0.5859 - val_accuracy: 0.7912 - 17s/epoch - 48ms/step\n",
            "Epoch 2/50\n",
            "351/351 - 14s - loss: 0.4529 - accuracy: 0.8341 - val_loss: 0.6053 - val_accuracy: 0.7887 - 14s/epoch - 39ms/step\n",
            "Epoch 3/50\n",
            "351/351 - 14s - loss: 0.4540 - accuracy: 0.8359 - val_loss: 0.6168 - val_accuracy: 0.7904 - 14s/epoch - 39ms/step\n",
            "Epoch 4/50\n",
            "351/351 - 14s - loss: 0.4323 - accuracy: 0.8442 - val_loss: 0.5905 - val_accuracy: 0.7847 - 14s/epoch - 39ms/step\n",
            "Epoch 5/50\n",
            "351/351 - 14s - loss: 0.4276 - accuracy: 0.8439 - val_loss: 0.6733 - val_accuracy: 0.7883 - 14s/epoch - 39ms/step\n",
            "Epoch 6/50\n",
            "\n",
            " akurasi dari training set and the validation set telah terpenuhi > 80%!\n",
            "351/351 - 14s - loss: 0.4360 - accuracy: 0.8369 - val_loss: 0.5918 - val_accuracy: 0.8001 - 14s/epoch - 39ms/step\n"
          ]
        }
      ]
    },
    {
      "cell_type": "code",
      "source": [
        "# Plot the chart for accuracy and loss on both training and validation\n",
        "acc = history.history['accuracy']\n",
        "val_acc = history.history['val_accuracy']\n",
        "loss = history.history['loss']\n",
        "val_loss = history.history['val_loss']\n",
        "\n",
        "epochs = range(len(acc))\n",
        "\n",
        "plt.plot(epochs, acc, 'r', label='Training accuracy')\n",
        "plt.plot(epochs, val_acc, 'b', label='Validation accuracy')\n",
        "plt.title('Training and validation accuracy')\n",
        "plt.legend()\n",
        "plt.figure()\n",
        "\n",
        "plt.plot(epochs, loss, 'r', label='Training Loss')\n",
        "plt.plot(epochs, val_loss, 'b', label='Validation Loss')\n",
        "plt.title('Training and validation loss')\n",
        "plt.legend()\n",
        "\n",
        "plt.show()"
      ],
      "metadata": {
        "colab": {
          "base_uri": "https://localhost:8080/",
          "height": 545
        },
        "id": "bCNrU7QHazjB",
        "outputId": "22e1e350-87fb-41cd-a11b-829d450cd90e"
      },
      "execution_count": 16,
      "outputs": [
        {
          "output_type": "display_data",
          "data": {
            "text/plain": [
              "<Figure size 432x288 with 1 Axes>"
            ],
            "image/png": "[encoded data removed]"
          },
          "metadata": {
            "needs_background": "light"
          }
        },
        {
          "output_type": "display_data",
          "data": {
            "text/plain": [
              "<Figure size 432x288 with 1 Axes>"
            ],
            "image/png": "[encoded data removed]"
          },
          "metadata": {
            "needs_background": "light"
          }
        }
      ]
    },
    {
      "cell_type": "code",
      "source": [
        "converter = tf.lite.TFLiteConverter.from_keras_model(model)\n",
        "tflite_model = converter.convert()\n",
        "\n",
        "with open('RPS_model.tflite', 'wb') as f:\n",
        "  f.write(tflite_model)"
      ],
      "metadata": {
        "colab": {
          "base_uri": "https://localhost:8080/"
        },
        "id": "ipDMaqLhbAg9",
        "outputId": "5f81698d-4459-42a8-e699-a502bf149bef"
      },
      "execution_count": 17,
      "outputs": [
        {
          "output_type": "stream",
          "name": "stderr",
          "text": [
            "WARNING:absl:Found untraced functions such as _jit_compiled_convolution_op, _jit_compiled_convolution_op, _jit_compiled_convolution_op, _jit_compiled_convolution_op, _jit_compiled_convolution_op while saving (showing 5 of 12). These functions will not be directly callable after loading.\n"
          ]
        }
      ]
    },
    {
      "cell_type": "code",
      "source": [],
      "metadata": {
        "id": "VB6OoJbUvv8q"
      },
      "execution_count": null,
      "outputs": []
    }
  ]
}